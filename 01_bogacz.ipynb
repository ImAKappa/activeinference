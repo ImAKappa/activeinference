{
 "cells": [
  {
   "cell_type": "code",
   "execution_count": null,
   "metadata": {},
   "outputs": [],
   "source": [
    "#default_exp bogacz"
   ]
  },
  {
   "cell_type": "markdown",
   "metadata": {},
   "source": [
    "# Bogacz 2017\n",
    "\n",
    "**Abstract**:\n",
    "\n",
    "This paper provides an easy to follow tutorial on the free-energy framework for modelling perception\n",
    "developed by Friston, which extends the predictive coding model of Rao and Ballard. These models assume\n",
    "that the sensory cortex infers the most likely values of attributes or features of sensory stimuli from\n",
    "the noisy inputs encoding the stimuli. Remarkably, these models describe how this inference could be\n",
    "implemented in a network of very simple computational elements, suggesting that this inference could be\n",
    "performed by biological networks of neurons. Furthermore, learning about the parameters describing the\n",
    "features and their uncertainty is implemented in these models by simple rules of synaptic plasticity based\n",
    "on Hebbian learning. This tutorial introduces the free-energy framework using very simple examples, and\n",
    "provides step-by-step derivations of the model. It also discusses in more detail how the model could be\n",
    "implemented in biological neural circuits. In particular, it presents an extended version of the model in\n",
    "which the neurons only sum their inputs, and synaptic plasticity only depends on activity of pre-synaptic\n",
    "and post-synaptic neurons."
   ]
  },
  {
   "cell_type": "code",
   "execution_count": null,
   "metadata": {},
   "outputs": [],
   "source": [
    "#hide\n",
    "from nbdev.showdoc import *"
   ]
  },
  {
   "cell_type": "code",
   "execution_count": null,
   "metadata": {},
   "outputs": [],
   "source": [
    "#export\n",
    "from typing import Callable\n",
    "from collections import namedtuple\n",
    "# Science & Math\n",
    "import numpy as np\n",
    "from scipy import stats\n",
    "import matplotlib.pyplot as plt"
   ]
  },
  {
   "cell_type": "code",
   "execution_count": null,
   "metadata": {},
   "outputs": [],
   "source": [
    "#|export\n",
    "# Configuration\n",
    "plt.style.use('seaborn')"
   ]
  },
  {
   "cell_type": "markdown",
   "metadata": {},
   "source": [
    "## 2. Simplest Example of Perception"
   ]
  },
  {
   "cell_type": "markdown",
   "metadata": {},
   "source": [
    "\n",
    "Consider a simple organism tries to infer size of food from ligh intensity\n",
    "* Light intensity, $g(v)$, relates to surface area of food, $v$, according to $g(v) = v^2$\n",
    "* Using light-receptors, organisms noisily estimates light intensity with mean $g(v)$ and variance $\\Sigma_u$\n",
    "\n",
    "The likelihood of the organism sensing a particular light intensity, $u$, given some food size $v$ is:\n",
    "$$\n",
    "p(u | v) = \\text{Normal}(u; \\text{mean}=g(v), \\text{std dev}=\\Sigma_u)\n",
    "$$\n",
    "\n",
    "The organism has some idea of reasonable food sizes, and it takes this prior knowledge into account when sensing the light; food can't be outrageously small or large, so any light detected probably comes from food that is around some average size $v_p$ with variance $\\Sigma_p$ (\"p\" stands for \"prior\"):\n",
    "$$\n",
    "p(v) = \\text{Normal}(v; v_p, \\Sigma_p)\n",
    "$$\n",
    "\n",
    "But how does the organisms combine the likelihood and prior to best estimate the food size from light intensity?"
   ]
  },
  {
   "cell_type": "markdown",
   "metadata": {},
   "source": [
    "### 2.1 Exact Solution\n",
    "\n",
    "A while ago, some big-brain humans came up with a mathematically best way to combine prior and likelihood. This is **Baye's Theorem**:\n",
    "$$\n",
    "p(v | u) = \\frac{p(u | v) p(v)}{p(u)}\n",
    "$$\n",
    "\n",
    "In words we have:\n",
    "* Right hand side: The chance that the true food size is $v$ based on the estimated light intensity $u$\n",
    "* Left hand side: the chance that this particular food size $v$ would produce that particular estimated light intensity $u$ AND the chance that the organism would even encounter food with size $v$, out of all the ways the organism could have estimated that particular light intensity $u$"
   ]
  },
  {
   "cell_type": "markdown",
   "metadata": {},
   "source": [
    "#### Exercise 1"
   ]
  },
  {
   "cell_type": "code",
   "execution_count": null,
   "metadata": {},
   "outputs": [],
   "source": [
    "#export\n",
    "\n",
    "def exercise1():\n",
    "    # --- Hypotheses\n",
    "    possible_food_sizes = np.linspace(0.01, 5.0, num=100)\n",
    "\n",
    "    # --- Priors\n",
    "    prior_food_size = dict(avg=3, variance=1) # v_p and Sigma_p\n",
    "    priors = stats.norm(prior_food_size['avg'], prior_food_size['variance']).pdf(possible_food_sizes)\n",
    "\n",
    "    # --- Data\n",
    "    estimated_light_intensity = 2 # u \n",
    "    noisyness_of_estimate = 1 # Sigma_u\n",
    "\n",
    "    # --- Likelihoods\n",
    "    light_intensity_likelihood = stats.norm(estimated_light_intensity, noisyness_of_estimate)\n",
    "    # Remember that light_intensity(food_size) = food_size ** 2\n",
    "    possible_light_intensities = possible_food_sizes ** 2\n",
    "    likelihoods = light_intensity_likelihood.pdf(possible_light_intensities) # p(u | v)\n",
    "\n",
    "    # --- Posterior\n",
    "    probs_of_possible_food_sizes = likelihoods * priors / np.sum(likelihoods * priors) # p(v | u)\n",
    "    # Interval width helps us convert between probability and probability densities\n",
    "    hypothesis_interval_width = possible_food_sizes[1] - possible_food_sizes[0]\n",
    "    prob_densities_of_possible_food_sizes = probs_of_possible_food_sizes / hypothesis_interval_width\n",
    "    return possible_food_sizes, probs_of_possible_food_sizes"
   ]
  },
  {
   "cell_type": "code",
   "execution_count": null,
   "metadata": {},
   "outputs": [
    {
     "data": {
      "image/png": "[encoded data removed]",
      "text/plain": [
       "<Figure size 432x288 with 1 Axes>"
      ]
     },
     "metadata": {
      "needs_background": "light"
     },
     "output_type": "display_data"
    }
   ],
   "source": [
    "possible_food_sizes, probs_of_possible_food_sizes = exercise1()\n",
    "fig, ax = plt.subplots(1, 1)\n",
    "ax.plot(possible_food_sizes, probs_of_possible_food_sizes)\n",
    "ax.set_xlabel('Food size')\n",
    "ax.set_ylabel('Prob density')\n",
    "ax.set_title('Posterior distribution')\n",
    "plt.show()"
   ]
  },
  {
   "cell_type": "markdown",
   "metadata": {},
   "source": [
    "### 2.2 Finding the most likely feature value\n",
    "\n",
    "But this organism can't do fancy math like us. So how would a living thing with a nervous system combine the likelihood and prior in the best way possible?\n",
    "\n",
    "Instead of calculating the whole posterior distribution, the organism probably calculates just the most likely food size, which we'll call $\\phi$. So, the actual probability of $\\phi$ given the observed light intensity is $p(\\phi | v)$.\n",
    "\n",
    "Notice that if we plugin $v = \\phi$ into Bayes Theorem, only the numerator of the left hand has anything to do with $\\phi$. \n",
    "\n",
    "$$\n",
    "p(\\phi | u) = \\frac{p(u | \\phi) p(\\phi)}{p(u)}\n",
    "$$\n",
    "\n",
    "To a simple organism there's no point in calculating the denominator, except to waste brain power. It probably just calculates some variation of the numerator. A computationally convenient variation of the numerator is the natural log version. We'll call the natural log version of the numerator $F$.\n",
    "\n",
    "$$\n",
    "F = \\ln \\bigg( p(u | \\phi) p(\\phi) \\bigg) = \\ln p(u | \\phi) + \\ln p(\\phi)\n",
    "$$\n",
    "\n",
    "Let's assume the organism's nervous system iteratively searches for $\\phi$ to maximize $F$; it starts with some initial guess for $\\phi$, then nudges it little by little until it's confident it has reached a $\\phi$ with the highest probability of explaining the observed light intensity. But how does it do the nudging?\n",
    "\n",
    "Gradient ascent is an algorithm that nudges values according to 1) some function and 2) how that function changes as the input changes (i.e. the derivative of the function). Nervous systems have the capability to compute rates of change, so gradient ascent is a realistic algorithm for us to model the organism with.\n",
    "\n",
    "Check out the paper for the full derivation, but basically when $\\phi$ changes a little, then $F$ changes by this much:\n",
    "\n",
    "$$\n",
    "\\frac{\\partial F}{\\partial \\phi} = \\frac{v_p - \\phi}{\\Sigma_p} + \\frac{u - g(\\phi)}{\\Sigma_u} g'(\\phi)\n",
    "$$\n",
    "\n",
    "In our example, $g(v) = v^2$ so $g'(v) = 2v$"
   ]
  },
  {
   "cell_type": "markdown",
   "metadata": {},
   "source": [
    "#### Exercise 2"
   ]
  },
  {
   "cell_type": "code",
   "execution_count": null,
   "metadata": {},
   "outputs": [],
   "source": [
    "#|export\n",
    "def update(current_guess: float, up: UpdateParams, g: Callable, g_prime: Callable, delta_time: float):\n",
    "    first_term = (up.prior - current_guess) / up.prior_noise\n",
    "    second_term = ((up.estimate - g(current_guess)) / up.estimate_noise) * g_prime(current_guess)\n",
    "    nudge_amnt = first_term + second_term # delta\n",
    "    return current_guess + nudge_amnt * delta_time\n",
    "\n",
    "def exercise2():\n",
    "    prior_food_size = dict(avg=3, variance=1) # v_p and Sigma_p\n",
    "    estimated_light_intensity = 2 # u \n",
    "    noisyness_of_estimate = 1 # Sigma_u\n",
    "    up = UpdateParams(\n",
    "        estimated_light_intensity,\n",
    "        noisyness_of_estimate,\n",
    "        prior_food_size['avg'],\n",
    "        prior_food_size['variance'],\n",
    "    )\n",
    "    \n",
    "    total_time = 5\n",
    "    delta_time = 0.01\n",
    "    time_series = np.linspace(0, total_time, num=int(int(total_time / delta_time)))\n",
    "    guesses = np.zeros(len(time_series))\n",
    "    initial_guess = prior_food_size['avg'] # phi\n",
    "    guesses[0] = initial_guess\n",
    "    \n",
    "    g = lambda v: v*v\n",
    "    g_prime = lambda v: 2*v\n",
    "    \n",
    "    for i, time in enumerate(time_series):\n",
    "        if i == 0: continue\n",
    "        guesses[i] = update(guesses[i-1], up, g, g_prime, delta_time)\n",
    "    return time_series, guesses\n"
   ]
  },
  {
   "cell_type": "code",
   "execution_count": null,
   "metadata": {},
   "outputs": [
    {
     "data": {
      "image/png": "[encoded data removed]",
      "text/plain": [
       "<Figure size 432x288 with 1 Axes>"
      ]
     },
     "metadata": {
      "needs_background": "light"
     },
     "output_type": "display_data"
    }
   ],
   "source": [
    "UpdateParams = namedtuple('UpdateParams', 'estimate estimate_noise prior prior_noise')\n",
    "time_series, guesses = exercise2()\n",
    "fig, ax = plt.subplots(1, 1)\n",
    "ax.plot(time_series, guesses)\n",
    "ax.set_xlabel('Time')\n",
    "ax.set_ylabel('Best guess')\n",
    "ax.set_ylim(0.0, 3.05)\n",
    "ax.set_title('Best guess convergence')\n",
    "plt.show()"
   ]
  },
  {
   "cell_type": "markdown",
   "metadata": {},
   "source": [
    "### 2.3 A possible neural implementation\n",
    "\n",
    "Let's group the terms in the $F$ derivative equation:\n",
    "\n",
    "$$\n",
    "\\epsilon_p = \\frac{\\phi - v_p}{\\Sigma_p}\n",
    "$$\n",
    "\n",
    "$$\n",
    "\\epsilon_u = \\frac{u - g(\\phi)}{\\Sigma_u}\n",
    "$$\n",
    "\n",
    "Which gives us:\n",
    "\n",
    "$$\n",
    "\\dot{\\phi} = \\frac{\\partial F}{\\partial \\phi} = \\epsilon_u g'(\\phi) - \\epsilon_p\n",
    "$$\n",
    "\n",
    "where $\\dot{\\phi}$ is a more compact way of writing the derivative of $F$ with respect to $\\phi$.\n",
    "\n",
    "IRL neural circuits encode $v_p$, $\\Sigma_p$, and $\\Sigma_u$ in the strengths of synaptic connections. After all, the organism needs to remember these quantities.\n",
    "\n",
    "$\\phi$, $\\epsilon_p$, $\\epsilon_u$, and $u$ change as the activity of populations of neurons change. \n",
    "\n",
    "A single neuron, or \"node\", changes it's activity proportionally to its input. Plus, any prediction error could be computed by:\n",
    "\n",
    "$$\n",
    "\\dot{\\epsilon_p} = \\phi - v_p - \\Sigma_p \\epsilon_p\n",
    "$$\n",
    "\n",
    "$$\n",
    "\\dot{\\epsilon_u} = u - g(\\phi) - \\Sigma_u \\epsilon_u\n",
    "$$\n",
    "\n",
    "When these derivatives are $0$, we get the epsilon equations we defined earlier."
   ]
  },
  {
   "cell_type": "code",
   "execution_count": null,
   "metadata": {},
   "outputs": [],
   "source": [
    "#|export\n",
    "def exercise3():\n",
    "    prior_food_size = dict(avg=3, variance=1) # v_p and Sigma_p\n",
    "    estimated_light_intensity = 2 # u \n",
    "    noisyness_of_estimate = 1 # Sigma_u\n",
    "    up = UpdateParams(\n",
    "        estimated_light_intensity,\n",
    "        noisyness_of_estimate,\n",
    "        prior_food_size['avg'],\n",
    "        prior_food_size['variance'],\n",
    "    )\n",
    "\n",
    "    total_time = 5\n",
    "    delta_time = 0.01\n",
    "    time_series = np.linspace(0, total_time, num=int(int(total_time / delta_time)))\n",
    "    guesses = np.zeros(len(time_series))\n",
    "    \n",
    "    initial_guess = prior_food_size['avg'] # phi\n",
    "    guesses[0] = initial_guess\n",
    "    \n",
    "    error_prior = np.zeros(len(time_series))\n",
    "    error_prior[0] = 0 # epsilon_p\n",
    "    error_light_estimate = np.zeros(len(time_series))\n",
    "    error_light_estimate[0] = 0 # epsilon_u\n",
    "    \n",
    "    g_prime = lambda v: 2*v\n",
    "    \n",
    "    for i, time in enumerate(time_series):\n",
    "        guesses[i] = guesses[i-1] + delta_time * (error_light_estimate[i-1] * g_prime(guesses[i-1]) - error_prior[i-1])\n",
    "        error_prior[i] = error_prior[i-1] + delta_time * (guesses[i-1] - up.estimate - up.estimate_noise * error_prior[i-1])\n",
    "        error_light_estimate[i] = error_light_estimate[i-1] + delta_time * (up.estimate - guesses[i-1]**2 - up.estimate_noise * error_light_estimate[i-1])\n",
    "    return time_series, guesses, error_light_estimate, error_prior"
   ]
  },
  {
   "cell_type": "code",
   "execution_count": null,
   "metadata": {},
   "outputs": [
    {
     "data": {
      "image/png": "[encoded data removed]",
      "text/plain": [
       "<Figure size 432x288 with 1 Axes>"
      ]
     },
     "metadata": {
      "needs_background": "light"
     },
     "output_type": "display_data"
    }
   ],
   "source": [
    "UpdateParams = namedtuple('UpdateParams', 'estimate estimate_noise prior prior_noise')\n",
    "time_series, guesses, error_light_estimate, error_prior = exercise3()\n",
    "fig, ax = plt.subplots(1, 1)\n",
    "ax.plot(time_series, guesses, label='$\\phi$')\n",
    "ax.plot(time_series, error_light_estimate, label='$\\epsilon_u$')\n",
    "ax.plot(time_series, error_prior, label='$\\epsilon_p$')\n",
    "ax.set_xlabel('Time')\n",
    "ax.set_ylabel('Activity')\n",
    "ax.set_title('Neuronal convergence')\n",
    "plt.legend()\n",
    "plt.show()"
   ]
  },
  {
   "cell_type": "markdown",
   "metadata": {},
   "source": []
  }
 ],
 "metadata": {
  "kernelspec": {
   "display_name": "Python3.10 (activeinference)",
   "language": "python",
   "name": "activeinference"
  }
 },
 "nbformat": 4,
 "nbformat_minor": 2
}
