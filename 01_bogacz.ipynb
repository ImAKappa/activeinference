{
 "cells": [
  {
   "cell_type": "code",
   "execution_count": null,
   "metadata": {},
   "outputs": [],
   "source": [
    "#default_exp bogacz"
   ]
  },
  {
   "cell_type": "markdown",
   "metadata": {},
   "source": [
    "# Bogacz 2017\n",
    "\n",
    "**Abstract**:\n",
    "\n",
    "This paper provides an easy to follow tutorial on the free-energy framework for modelling perception\n",
    "developed by Friston, which extends the predictive coding model of Rao and Ballard. These models assume\n",
    "that the sensory cortex infers the most likely values of attributes or features of sensory stimuli from\n",
    "the noisy inputs encoding the stimuli. Remarkably, these models describe how this inference could be\n",
    "implemented in a network of very simple computational elements, suggesting that this inference could be\n",
    "performed by biological networks of neurons. Furthermore, learning about the parameters describing the\n",
    "features and their uncertainty is implemented in these models by simple rules of synaptic plasticity based\n",
    "on Hebbian learning. This tutorial introduces the free-energy framework using very simple examples, and\n",
    "provides step-by-step derivations of the model. It also discusses in more detail how the model could be\n",
    "implemented in biological neural circuits. In particular, it presents an extended version of the model in\n",
    "which the neurons only sum their inputs, and synaptic plasticity only depends on activity of pre-synaptic\n",
    "and post-synaptic neurons."
   ]
  },
  {
   "cell_type": "code",
   "execution_count": null,
   "metadata": {},
   "outputs": [],
   "source": [
    "#hide\n",
    "from nbdev.showdoc import *"
   ]
  },
  {
   "cell_type": "code",
   "execution_count": null,
   "metadata": {},
   "outputs": [],
   "source": [
    "#export\n",
    "import numpy as np\n",
    "from scipy import stats\n",
    "import matplotlib.pyplot as plt"
   ]
  },
  {
   "cell_type": "code",
   "execution_count": null,
   "metadata": {},
   "outputs": [],
   "source": [
    "plt.style.use('seaborn')"
   ]
  },
  {
   "cell_type": "markdown",
   "metadata": {},
   "source": [
    "## 2. Simplest Example of Perception"
   ]
  },
  {
   "cell_type": "markdown",
   "metadata": {},
   "source": [
    "\n",
    "Consider a simple organism tries to infer size of food from ligh intensity\n",
    "* Light intensity, $g(v)$, relates to surface area of food, $v$, according to $g(v) = v^2$\n",
    "* Using light-receptors, organisms noisily estimates light intensity with mean $g(v)$ and variance $\\Sigma_u$\n",
    "\n",
    "The likelihood of the organism sensing a particular light intensity, $u$, given some food size $v$ is:\n",
    "$$\n",
    "p(u | v) = \\text{Normal}(u; \\text{mean}=g(v), \\text{std dev}=\\Sigma_u)\n",
    "$$\n",
    "\n",
    "The organism has some idea of reasonable food sizes, and it takes this prior knowledge into account when sensing the light; food can't be outrageously small or large, so any light detected probably comes from food that is around some average size $v_p$ with variance $\\Sigma_p$ (\"p\" stands for \"prior\"):\n",
    "$$\n",
    "p(v) = \\text{Normal}(v; v_p, \\Sigma_p)\n",
    "$$\n",
    "\n",
    "But how does the organisms combine the likelihood and prior to best estimate the food size from light intensity?"
   ]
  },
  {
   "cell_type": "markdown",
   "metadata": {},
   "source": [
    "### 2.1 Exact Solution\n",
    "\n",
    "A while ago, some big-brain humans came up with a mathematically best way to combine prior and likelihood. This is **Baye's Theorem**:\n",
    "$$\n",
    "p(v | u) = \\frac{p(u | v) p(v)}{p(u)}\n",
    "$$\n",
    "\n",
    "In words we have:\n",
    "* Right hand side: The chance that the true food size is $v$ based on the estimated light intensity $u$\n",
    "* Left hand side: the chance that this particular food size $v$ would produce that particular estimated light intensity $u$ AND the chance that the organism would even encounter food with size $v$, out of all the ways the organism could have estimated that particular light intensity $u$"
   ]
  },
  {
   "cell_type": "markdown",
   "metadata": {},
   "source": [
    "#### Exercise 1"
   ]
  },
  {
   "cell_type": "code",
   "execution_count": null,
   "metadata": {},
   "outputs": [],
   "source": [
    "#export\n",
    "\n",
    "# --- Hypotheses\n",
    "possible_food_sizes = np.linspace(0.01, 5.0, num=100)\n",
    "\n",
    "# --- Priors\n",
    "prior_food_size = dict(avg=3, variance=1) # v_p and Sigma_p\n",
    "priors = stats.norm(prior_food_size['avg'], prior_food_size['variance']).pdf(possible_food_sizes)\n",
    "\n",
    "# --- Data\n",
    "estimated_light_intensity = 2 # u \n",
    "noisyness_of_estimate = 1 # Sigma_u\n",
    "\n",
    "# --- Likelihoods\n",
    "light_intensity_likelihood = stats.norm(estimated_light_intensity, noisyness_of_estimate)\n",
    "# Remember that light_intensity(food_size) = food_size ** 2\n",
    "possible_light_intensities = possible_food_sizes ** 2\n",
    "likelihoods = light_intensity_likelihood.pdf(possible_light_intensities) # p(u | v)\n",
    "\n",
    "# --- Posterior\n",
    "probs_of_possible_food_sizes = likelihoods * priors / np.sum(likelihoods * priors) # p(v | u)\n",
    "# Interval width helps us convert between probability and probability densities\n",
    "hypothesis_interval_width = possible_food_sizes[1] - possible_food_sizes[0]\n",
    "prob_densities_of_possible_food_sizes /= hypothesis_interval_width\n"
   ]
  },
  {
   "cell_type": "code",
   "execution_count": null,
   "metadata": {},
   "outputs": [
    {
     "data": {
      "image/png": "[encoded data removed]",
      "text/plain": [
       "<Figure size 432x288 with 1 Axes>"
      ]
     },
     "metadata": {
      "needs_background": "light"
     },
     "output_type": "display_data"
    }
   ],
   "source": [
    "fig, ax = plt.subplots(1, 1)\n",
    "ax.plot(possible_food_sizes, probs_of_possible_food_sizes)\n",
    "ax.set_xlabel('Food size')\n",
    "ax.set_ylabel('Prob density')\n",
    "ax.set_title('Posterior distribution')\n",
    "plt.show()"
   ]
  },
  {
   "cell_type": "markdown",
   "metadata": {},
   "source": [
    "### 2.2 Finding the most likely feature value\n",
    "\n",
    "**REWRITE FOR BETTER EXPLANATION**\n",
    "\n",
    "But this organism can't do fancy math like us. So how would a living thing with a nervous system combine the likelihood and prior in the best way possible?\n",
    "\n",
    "Nervous systems are good at calculating rates of change, so it's plausible the nervous system to perform some kind of search algorithm to find the best value of $u$ that maximizes the posterior. We call this best value $\\phi$\n",
    "\n",
    "Specifically the nervous system minimizes some quantity $F$ which is the difference between some random guess posterior distribution and the true posterior distribution.\n",
    "\n",
    "$$\n",
    "\\frac{\\partial F}{\\partial \\phi} = \\frac{v_p - \\phi}{\\Sigma_p} + \\frac{u - g(\\phi)}{\\Sigma_u} g'(\\phi)\n",
    "$$\n",
    "\n",
    "In our example, $g(v) = v^2$ so $g'(v) = 2v$"
   ]
  },
  {
   "cell_type": "markdown",
   "metadata": {},
   "source": [
    "#### Exercise 2"
   ]
  },
  {
   "cell_type": "code",
   "execution_count": null,
   "metadata": {},
   "outputs": [],
   "source": [
    "from typing import Callable\n",
    "from collections import namedtuple\n",
    "\n",
    "UpdateParams = namedtuple('UpdateParams', 'estimate, estimate_noise, prior, prior_noise')\n",
    "\n",
    "def update(current_guess: float, up: UpdateParams, g: Callable, g_prime: Callable, delta_time: float):\n",
    "    first_term = (up.prior - current_guess) / up.prior_noise\n",
    "    second_term = ((up.estimate - g(current_guess)) / up.estimate_noise) * g_prime(current_guess)\n",
    "    nudge_amnt = first_term + second_term # delta\n",
    "    return current_guess + nudge_amnt * delta_time\n",
    "\n",
    "def exercise2():\n",
    "    prior_food_size = dict(avg=3, variance=1) # v_p and Sigma_p\n",
    "    estimated_light_intensity = 2 # u \n",
    "    noisyness_of_estimate = 1 # Sigma_u\n",
    "    up = UpdateParams(\n",
    "        estimated_light_intensity,\n",
    "        noisyness_of_estimate,\n",
    "        prior_food_size['avg'],\n",
    "        prior_food_size['variance'],\n",
    "    )\n",
    "    \n",
    "    total_time = 5\n",
    "    delta_time = 0.01\n",
    "    time_series = np.linspace(0, total_time, num=int(int(total_time / delta_time)))\n",
    "    guesses = np.zeros(len(time_series))\n",
    "    initial_guess = prior_food_size['avg'] # phi\n",
    "    guesses[0] = initial_guess\n",
    "    \n",
    "    g = lambda v: v*v\n",
    "    g_prime = lambda v: 2*v\n",
    "    \n",
    "    for i, time in enumerate(time_series):\n",
    "        if i == 0: continue\n",
    "        guesses[i] = update(guesses[i-1], up, g, g_prime, delta_time)\n",
    "    return time_series, guesses\n",
    "\n",
    "time_series, guesses = exercise2()"
   ]
  },
  {
   "cell_type": "code",
   "execution_count": null,
   "metadata": {},
   "outputs": [
    {
     "data": {
      "image/png": "[encoded data removed]",
      "text/plain": [
       "<Figure size 432x288 with 1 Axes>"
      ]
     },
     "metadata": {
      "needs_background": "light"
     },
     "output_type": "display_data"
    }
   ],
   "source": [
    "fig, ax = plt.subplots(1, 1)\n",
    "ax.plot(time_series, guesses)\n",
    "ax.set_xlabel('Iterations')\n",
    "ax.set_ylabel('Best guess')\n",
    "ax.set_ylim(0.0, 3.05)\n",
    "ax.set_title('Best guess convergence')\n",
    "plt.show()"
   ]
  }
 ],
 "metadata": {
  "kernelspec": {
   "display_name": "Python3.10 (activeinference)",
   "language": "python",
   "name": "activeinference"
  }
 },
 "nbformat": 4,
 "nbformat_minor": 2
}
